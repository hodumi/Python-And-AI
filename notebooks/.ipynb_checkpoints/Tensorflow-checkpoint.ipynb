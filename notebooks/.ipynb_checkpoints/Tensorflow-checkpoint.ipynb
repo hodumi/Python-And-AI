{
 "cells": [
  {
   "cell_type": "markdown",
   "metadata": {},
   "source": [
    "# Tensorflowの勉強メモ"
   ]
  },
  {
   "cell_type": "markdown",
   "metadata": {},
   "source": [
    "参考資料: \n",
    "1. [Qiita 多分もっともわかりやすいTensorFlow 入門 (Introduction)](https://qiita.com/junichiro/items/8886f3976fc20f73335f)\n",
    "2. [初めてのTensorFlow（改訂版）- 線形回帰とロジスティック回帰](https://qiita.com/TomokIshii/items/0a7041ad337f68f71286)"
   ]
  },
  {
   "cell_type": "markdown",
   "metadata": {},
   "source": [
    "## Hello World!"
   ]
  },
  {
   "cell_type": "code",
   "execution_count": 4,
   "metadata": {},
   "outputs": [
    {
     "name": "stdout",
     "output_type": "stream",
     "text": [
      "Hello, TensorFlow!\n"
     ]
    }
   ],
   "source": [
    "import tensorflow as tf\n",
    "\n",
    "hello = tf.constant('Hello, TensorFlow!') # Tensorflow用定数を作成\n",
    "sess = tf.Session() # 実行セッション作成\n",
    "print(sess.run(hello)) # 実行 + 戻り値をprint\n",
    "sess.close()"
   ]
  },
  {
   "cell_type": "markdown",
   "metadata": {},
   "source": [
    "## 普通の計算のやり方 on Tensorflow"
   ]
  },
  {
   "cell_type": "code",
   "execution_count": 5,
   "metadata": {},
   "outputs": [
    {
     "name": "stdout",
     "output_type": "stream",
     "text": [
      "42\n"
     ]
    }
   ],
   "source": [
    "import tensorflow as tf\n",
    "sess = tf.Session() # 実行セッション作成\n",
    "a = tf.constant(10) # 定数10を作成\n",
    "b = tf.constant(32) # 定数32を作成\n",
    "print(sess.run(a + b)) # 10 + 32"
   ]
  },
  {
   "cell_type": "markdown",
   "metadata": {},
   "source": [
    "## 線形回帰サンプル"
   ]
  },
  {
   "cell_type": "code",
   "execution_count": 11,
   "metadata": {},
   "outputs": [
    {
     "name": "stdout",
     "output_type": "stream",
     "text": [
      "(0, array([-0.16496804], dtype=float32), array([0.5646534], dtype=float32))\n",
      "(20, array([0.01969719], dtype=float32), array([0.33975276], dtype=float32))\n",
      "(40, array([0.07972421], dtype=float32), array([0.31003726], dtype=float32))\n",
      "(60, array([0.09488054], dtype=float32), array([0.3025343], dtype=float32))\n",
      "(80, array([0.09870738], dtype=float32), array([0.3006399], dtype=float32))\n",
      "(100, array([0.09967362], dtype=float32), array([0.30016157], dtype=float32))\n",
      "(120, array([0.09991758], dtype=float32), array([0.3000408], dtype=float32))\n",
      "(140, array([0.0999792], dtype=float32), array([0.30001032], dtype=float32))\n",
      "(160, array([0.09999476], dtype=float32), array([0.3000026], dtype=float32))\n",
      "(180, array([0.09999869], dtype=float32), array([0.30000067], dtype=float32))\n",
      "(200, array([0.09999966], dtype=float32), array([0.3000002], dtype=float32))\n"
     ]
    }
   ],
   "source": [
    "import tensorflow as tf\n",
    "import numpy as np\n",
    "\n",
    "# Create 100 phony x, y data points in NumPy, y = x * 0.1 + 0.3\n",
    "x_data = np.random.rand(100).astype(np.float32)\n",
    "y_data = x_data * 0.1 + 0.3\n",
    "\n",
    "# Try to find values for W and b that compute y_data = W * x_data + b\n",
    "# (We know that W should be 0.1 and b 0.3, but TensorFlow will\n",
    "# figure that out for us.)\n",
    "W = tf.Variable(tf.random_uniform([1], -1.0, 1.0))\n",
    "b = tf.Variable(tf.zeros([1]))\n",
    "y = W * x_data + b\n",
    "\n",
    "# Minimize the mean squared errors.\n",
    "loss = tf.reduce_mean(tf.square(y - y_data))\n",
    "optimizer = tf.train.GradientDescentOptimizer(0.5)\n",
    "train = optimizer.minimize(loss)\n",
    "\n",
    "# Before starting, initialize the variables.  We will 'run' this first.\n",
    "init = tf.global_variables_initializer()\n",
    "\n",
    "# Launch the graph.\n",
    "sess = tf.Session()\n",
    "sess.run(init)\n",
    "\n",
    "# Fit the line.\n",
    "for step in range(201):\n",
    "    sess.run(train)\n",
    "    if step % 20 == 0:\n",
    "        print(step, sess.run(W), sess.run(b))\n",
    "\n",
    "# Learns best fit is W: [0.1], b: [0.3]\n",
    "\n",
    "# Close the Session when we're done.\n",
    "sess.close()"
   ]
  }
 ],
 "metadata": {
  "kernelspec": {
   "display_name": "Python 2",
   "language": "python",
   "name": "python2"
  },
  "language_info": {
   "codemirror_mode": {
    "name": "ipython",
    "version": 2
   },
   "file_extension": ".py",
   "mimetype": "text/x-python",
   "name": "python",
   "nbconvert_exporter": "python",
   "pygments_lexer": "ipython2",
   "version": "2.7.12"
  }
 },
 "nbformat": 4,
 "nbformat_minor": 2
}
