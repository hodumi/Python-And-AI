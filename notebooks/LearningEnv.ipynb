{
 "cells": [
  {
   "cell_type": "markdown",
   "metadata": {},
   "source": [
    "# 学習環境\n",
    "\n",
    "## 学習ツール\n",
    "### docker \n",
    "仮想環境構築用ツール  \n",
    "\n",
    "環境構築用ファイルを作成することで、どこでも同じ環境で作業ができるようになる。  \n",
    "また、環境構築用ファイルを全世界に公開することも可能なため、ツールの配布等にも用いられている。\n",
    "\n",
    "下記のtensorflow用環境が配布されていたため、会社でも家でも同じ環境で学習するために使用している。\n",
    "\n",
    "\n",
    "### tensorflow\n",
    "機械学習関連のツールがほぼ全て入っているPython用ライブラリ（Google製)\n",
    "\n",
    "これを使用した参考書/サイトを使用しているため、使用している。\n",
    "\n",
    "実際には、tensorflow + Jupyter Notebook(下記)が入ったDockerイメージを使用している。\n",
    "\n",
    "###  jupyter Notebook\n",
    "メモをしつつプログラムを書けるWebアプリ（このアプリ）\n",
    "\n",
    "学習メモや参考資料等を書きながらツールの学習が可能。  \n",
    "データ自体は、ipynb形式のテキストデータであるため、バージョン管理等も楽に行える。\n",
    "\n",
    "## 学習環境の配布\n",
    "\n",
    "GitHubにある私のアカウントにこの学習環境を公開している。  \n",
    "https://github.com/hodumi/Python-And-AI"
   ]
  }
 ],
 "metadata": {
  "kernelspec": {
   "display_name": "Python 2",
   "language": "python",
   "name": "python2"
  },
  "language_info": {
   "codemirror_mode": {
    "name": "ipython",
    "version": 2
   },
   "file_extension": ".py",
   "mimetype": "text/x-python",
   "name": "python",
   "nbconvert_exporter": "python",
   "pygments_lexer": "ipython2",
   "version": "2.7.12"
  }
 },
 "nbformat": 4,
 "nbformat_minor": 2
}
